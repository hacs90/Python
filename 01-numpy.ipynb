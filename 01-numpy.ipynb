{
 "cells": [
  {
   "cell_type": "code",
   "execution_count": 1,
   "metadata": {
    "collapsed": true
   },
   "outputs": [],
   "source": [
    "import numpy"
   ]
  },
  {
   "cell_type": "code",
   "execution_count": 2,
   "metadata": {
    "collapsed": false
   },
   "outputs": [
    {
     "data": {
      "text/plain": [
       "array([[ 0.,  0.,  1., ...,  3.,  0.,  0.],\n",
       "       [ 0.,  1.,  2., ...,  1.,  0.,  1.],\n",
       "       [ 0.,  1.,  1., ...,  2.,  1.,  1.],\n",
       "       ..., \n",
       "       [ 0.,  1.,  1., ...,  1.,  1.,  1.],\n",
       "       [ 0.,  0.,  0., ...,  0.,  2.,  0.],\n",
       "       [ 0.,  0.,  1., ...,  1.,  1.,  0.]])"
      ]
     },
     "execution_count": 2,
     "metadata": {},
     "output_type": "execute_result"
    }
   ],
   "source": [
    "numpy.loadtxt(fname=\"data/inflammation-01.csv\", delimiter=\",\")"
   ]
  },
  {
   "cell_type": "code",
   "execution_count": 3,
   "metadata": {
    "collapsed": false
   },
   "outputs": [
    {
     "ename": "NameError",
     "evalue": "name 'weight' is not defined",
     "output_type": "error",
     "traceback": [
      "\u001b[0;31m---------------------------------------------------------------------------\u001b[0m",
      "\u001b[0;31mNameError\u001b[0m                                 Traceback (most recent call last)",
      "\u001b[0;32m<ipython-input-3-57bcb30b62f8>\u001b[0m in \u001b[0;36m<module>\u001b[0;34m()\u001b[0m\n\u001b[0;32m----> 1\u001b[0;31m \u001b[0mprint\u001b[0m\u001b[0;34m(\u001b[0m\u001b[0mweight\u001b[0m\u001b[0;34m)\u001b[0m\u001b[0;34m\u001b[0m\u001b[0m\n\u001b[0m",
      "\u001b[0;31mNameError\u001b[0m: name 'weight' is not defined"
     ]
    }
   ],
   "source": [
    "print(weight)"
   ]
  },
  {
   "cell_type": "code",
   "execution_count": 4,
   "metadata": {
    "collapsed": false
   },
   "outputs": [
    {
     "name": "stdout",
     "output_type": "stream",
     "text": [
      "weight in kg: 57.4\n",
      "weight in lb: 126.28\n"
     ]
    }
   ],
   "source": [
    "weight = 57.4\n",
    "print(\"weight in kg:\", weight)\n",
    "weight_lb = weight * 2.2\n",
    "print(\"weight in lb:\", weight_lb)"
   ]
  },
  {
   "cell_type": "code",
   "execution_count": 6,
   "metadata": {
    "collapsed": false
   },
   "outputs": [
    {
     "name": "stdout",
     "output_type": "stream",
     "text": [
      "weight in kilogram is 100 and weight in pounds is 126.28\n"
     ]
    }
   ],
   "source": [
    "weight = 100\n",
    "print(\"weight in kilogram is\", weight, \"and weight in pounds is\", weight_lb)"
   ]
  },
  {
   "cell_type": "code",
   "execution_count": 7,
   "metadata": {
    "collapsed": true
   },
   "outputs": [],
   "source": [
    "data = numpy.loadtxt(fname=\"data/inflammation-01.csv\", delimiter=\",\")"
   ]
  },
  {
   "cell_type": "code",
   "execution_count": 8,
   "metadata": {
    "collapsed": false
   },
   "outputs": [
    {
     "name": "stdout",
     "output_type": "stream",
     "text": [
      "[[ 0.  0.  1. ...,  3.  0.  0.]\n",
      " [ 0.  1.  2. ...,  1.  0.  1.]\n",
      " [ 0.  1.  1. ...,  2.  1.  1.]\n",
      " ..., \n",
      " [ 0.  1.  1. ...,  1.  1.  1.]\n",
      " [ 0.  0.  0. ...,  0.  2.  0.]\n",
      " [ 0.  0.  1. ...,  1.  1.  0.]]\n"
     ]
    }
   ],
   "source": [
    "print(data)"
   ]
  },
  {
   "cell_type": "code",
   "execution_count": 9,
   "metadata": {
    "collapsed": false
   },
   "outputs": [
    {
     "name": "stdout",
     "output_type": "stream",
     "text": [
      "<class 'numpy.ndarray'>\n"
     ]
    }
   ],
   "source": [
    "print(type(data))"
   ]
  },
  {
   "cell_type": "code",
   "execution_count": 10,
   "metadata": {
    "collapsed": false
   },
   "outputs": [
    {
     "name": "stdout",
     "output_type": "stream",
     "text": [
      "float64\n"
     ]
    }
   ],
   "source": [
    "print(data.dtype)"
   ]
  },
  {
   "cell_type": "code",
   "execution_count": 11,
   "metadata": {
    "collapsed": false
   },
   "outputs": [
    {
     "name": "stdout",
     "output_type": "stream",
     "text": [
      "(60, 40)\n"
     ]
    }
   ],
   "source": [
    "print(data.shape)"
   ]
  },
  {
   "cell_type": "code",
   "execution_count": 12,
   "metadata": {
    "collapsed": false
   },
   "outputs": [
    {
     "name": "stdout",
     "output_type": "stream",
     "text": [
      "First value in the data: 0.0\n",
      "middle value in data: 13.0\n"
     ]
    }
   ],
   "source": [
    "print(\"First value in the data:\", data[0,0])\n",
    "print(\"middle value in data:\", data[30,20])"
   ]
  },
  {
   "cell_type": "code",
   "execution_count": 13,
   "metadata": {
    "collapsed": false
   },
   "outputs": [
    {
     "ename": "SyntaxError",
     "evalue": "invalid syntax (<ipython-input-13-1ae06e8a6b75>, line 1)",
     "output_type": "error",
     "traceback": [
      "\u001b[0;36m  File \u001b[0;32m\"<ipython-input-13-1ae06e8a6b75>\"\u001b[0;36m, line \u001b[0;32m1\u001b[0m\n\u001b[0;31m    print(data[0:4],[0:10])\u001b[0m\n\u001b[0m                      ^\u001b[0m\n\u001b[0;31mSyntaxError\u001b[0m\u001b[0;31m:\u001b[0m invalid syntax\n"
     ]
    }
   ],
   "source": [
    "print(data[0:4],[0:10])"
   ]
  },
  {
   "cell_type": "code",
   "execution_count": 14,
   "metadata": {
    "collapsed": false
   },
   "outputs": [
    {
     "name": "stdout",
     "output_type": "stream",
     "text": [
      "[[ 0.  0.  1.  3.  1.  2.  4.  7.  8.  3.]\n",
      " [ 0.  1.  2.  1.  2.  1.  3.  2.  2.  6.]\n",
      " [ 0.  1.  1.  3.  3.  2.  6.  2.  5.  9.]\n",
      " [ 0.  0.  2.  0.  4.  2.  2.  1.  6.  7.]]\n"
     ]
    }
   ],
   "source": [
    "print(data[0:4,0:10])"
   ]
  },
  {
   "cell_type": "code",
   "execution_count": 16,
   "metadata": {
    "collapsed": false
   },
   "outputs": [
    {
     "name": "stdout",
     "output_type": "stream",
     "text": [
      "[[ 0.  0.  1.  2.  2.  4.  2.  1.  6.  4.]\n",
      " [ 0.  0.  2.  2.  4.  2.  2.  5.  5.  8.]\n",
      " [ 0.  0.  1.  2.  3.  1.  2.  3.  5.  3.]\n",
      " [ 0.  0.  0.  3.  1.  5.  6.  5.  5.  8.]\n",
      " [ 0.  1.  1.  2.  1.  3.  5.  3.  5.  8.]]\n"
     ]
    }
   ],
   "source": [
    "print(data[5:10,0:10])"
   ]
  },
  {
   "cell_type": "code",
   "execution_count": 17,
   "metadata": {
    "collapsed": true
   },
   "outputs": [],
   "source": [
    "small = data[:3,36:]"
   ]
  },
  {
   "cell_type": "code",
   "execution_count": 18,
   "metadata": {
    "collapsed": false
   },
   "outputs": [
    {
     "name": "stdout",
     "output_type": "stream",
     "text": [
      "(3, 4)\n"
     ]
    }
   ],
   "source": [
    "print(small.shape)"
   ]
  },
  {
   "cell_type": "code",
   "execution_count": 19,
   "metadata": {
    "collapsed": true
   },
   "outputs": [],
   "source": [
    "doubledata = data * 2"
   ]
  },
  {
   "cell_type": "code",
   "execution_count": 20,
   "metadata": {
    "collapsed": false
   },
   "outputs": [
    {
     "name": "stdout",
     "output_type": "stream",
     "text": [
      "Original\n",
      "[[ 2.  3.  0.  0.]\n",
      " [ 1.  1.  0.  1.]\n",
      " [ 2.  2.  1.  1.]]\n"
     ]
    }
   ],
   "source": [
    "print(\"Original\")\n",
    "print(data[:3,36:])"
   ]
  },
  {
   "cell_type": "code",
   "execution_count": 21,
   "metadata": {
    "collapsed": false
   },
   "outputs": [
    {
     "name": "stdout",
     "output_type": "stream",
     "text": [
      "double\n",
      "[[ 4.  6.  0.  0.]\n",
      " [ 2.  2.  0.  2.]\n",
      " [ 4.  4.  2.  2.]]\n"
     ]
    }
   ],
   "source": [
    "print(\"double\")\n",
    "print(doubledata[:3,36:])"
   ]
  },
  {
   "cell_type": "code",
   "execution_count": 22,
   "metadata": {
    "collapsed": false
   },
   "outputs": [
    {
     "name": "stdout",
     "output_type": "stream",
     "text": [
      "triple\n",
      "[[ 6.  9.  0.  0.]\n",
      " [ 3.  3.  0.  3.]\n",
      " [ 6.  6.  3.  3.]]\n"
     ]
    }
   ],
   "source": [
    "tripledata = doubledata + data\n",
    "print(\"triple\")\n",
    "print(tripledata[:3,36:])"
   ]
  },
  {
   "cell_type": "code",
   "execution_count": 23,
   "metadata": {
    "collapsed": false
   },
   "outputs": [
    {
     "name": "stdout",
     "output_type": "stream",
     "text": [
      "6.14875\n"
     ]
    }
   ],
   "source": [
    "print(data.mean())"
   ]
  },
  {
   "cell_type": "code",
   "execution_count": 24,
   "metadata": {
    "collapsed": false
   },
   "outputs": [
    {
     "name": "stdout",
     "output_type": "stream",
     "text": [
      "Maximum inflammation: 20.0\n",
      "Minimum inflammation 0.0\n",
      "Standar deviation 4.61383319712\n"
     ]
    }
   ],
   "source": [
    "print(\"Maximum inflammation:\", data.max())\n",
    "print(\"Minimum inflammation\", data.min())\n",
    "print(\"Standar deviation\", data.std())"
   ]
  },
  {
   "cell_type": "code",
   "execution_count": 27,
   "metadata": {
    "collapsed": false
   },
   "outputs": [
    {
     "name": "stdout",
     "output_type": "stream",
     "text": [
      "Maximum inflammation for patient 0: 18.0\n",
      "Minimum inflammation for patient 0: 0.0\n"
     ]
    }
   ],
   "source": [
    "patient_0 = data[0, :]\n",
    "print(\"Maximum inflammation for patient 0:\", patient_0.max())\n",
    "print(\"Minimum inflammation for patient 0:\", patient_0.min())"
   ]
  },
  {
   "cell_type": "code",
   "execution_count": 28,
   "metadata": {
    "collapsed": false
   },
   "outputs": [
    {
     "name": "stdout",
     "output_type": "stream",
     "text": [
      "[  0.           0.45         1.11666667   1.75         2.43333333   3.15\n",
      "   3.8          3.88333333   5.23333333   5.51666667   5.95         5.9\n",
      "   8.35         7.73333333   8.36666667   9.5          9.58333333\n",
      "  10.63333333  11.56666667  12.35        13.25        11.96666667\n",
      "  11.03333333  10.16666667  10.           8.66666667   9.15         7.25\n",
      "   7.33333333   6.58333333   6.06666667   5.95         5.11666667   3.6\n",
      "   3.3          3.56666667   2.48333333   1.5          1.13333333\n",
      "   0.56666667]\n"
     ]
    }
   ],
   "source": [
    "print(data.mean(axis=0))"
   ]
  },
  {
   "cell_type": "code",
   "execution_count": 29,
   "metadata": {
    "collapsed": false
   },
   "outputs": [
    {
     "name": "stdout",
     "output_type": "stream",
     "text": [
      "(40,)\n"
     ]
    }
   ],
   "source": [
    "print(data.mean(axis=0).shape)"
   ]
  },
  {
   "cell_type": "code",
   "execution_count": 30,
   "metadata": {
    "collapsed": false
   },
   "outputs": [
    {
     "name": "stdout",
     "output_type": "stream",
     "text": [
      "[ 18.  18.  19.  17.  17.  18.  17.  20.  17.  18.  18.  18.  17.  16.  17.\n",
      "  18.  19.  19.  17.  19.  19.  16.  17.  15.  17.  17.  18.  17.  20.  17.\n",
      "  16.  19.  15.  15.  19.  17.  16.  17.  19.  16.  18.  19.  16.  19.  18.\n",
      "  16.  19.  15.  16.  18.  14.  20.  17.  15.  17.  16.  17.  19.  18.  18.]\n"
     ]
    }
   ],
   "source": [
    "print(data.max(axis=1))"
   ]
  },
  {
   "cell_type": "code",
   "execution_count": 32,
   "metadata": {
    "collapsed": false
   },
   "outputs": [
    {
     "data": {
      "image/png": "[encoded data removed]",
      "text/plain": [
       "<matplotlib.figure.Figure at 0x110daea58>"
      ]
     },
     "metadata": {},
     "output_type": "display_data"
    }
   ],
   "source": [
    "% matplotlib inline\n",
    "\n",
    "import matplotlib.pyplot\n",
    "\n",
    "image = matplotlib.pyplot.imshow(data)\n",
    "matplotlib.pyplot.show()"
   ]
  },
  {
   "cell_type": "code",
   "execution_count": 35,
   "metadata": {
    "collapsed": false
   },
   "outputs": [
    {
     "data": {
      "image/png": "[encoded data removed]",
      "text/plain": [
       "<matplotlib.figure.Figure at 0x1116aebe0>"
      ]
     },
     "metadata": {},
     "output_type": "display_data"
    }
   ],
   "source": [
    "# we import the tools that we need\n",
    "import numpy\n",
    "import matplotlib.pyplot\n",
    "\n",
    "data = numpy.loadtxt(fname='data/inflammation-01.csv', delimiter=\",\")\n",
    "\n",
    "fig = matplotlib.pyplot.figure(figsize=(10,3))\n",
    "\n",
    "axes1 = fig.add_subplot(1,3,1)\n",
    "axes2 = fig.add_subplot(1,3,2)\n",
    "axes3 = fig.add_subplot(1,3,3)\n",
    "\n",
    "axes1.set_ylabel(\"Average\")\n",
    "axes1.plot(data.mean(axis=0))\n",
    "\n",
    "axes2.set_ylabel(\"Max\")\n",
    "axes2.plot(data.max(axis=0))\n",
    "\n",
    "axes3.set_ylabel(\"Min\")\n",
    "axes3.plot(data.min(axis=0))\n",
    "\n",
    "matplotlib.pyplot.show()"
   ]
  },
  {
   "cell_type": "code",
   "execution_count": null,
   "metadata": {
    "collapsed": true
   },
   "outputs": [],
   "source": []
  }
 ],
 "metadata": {
  "kernelspec": {
   "display_name": "Python 3",
   "language": "python",
   "name": "python3"
  },
  "language_info": {
   "codemirror_mode": {
    "name": "ipython",
    "version": 3
   },
   "file_extension": ".py",
   "mimetype": "text/x-python",
   "name": "python",
   "nbconvert_exporter": "python",
   "pygments_lexer": "ipython3",
   "version": "3.6.0"
  }
 },
 "nbformat": 4,
 "nbformat_minor": 2
}
